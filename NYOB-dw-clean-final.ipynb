{
 "cells": [
  {
   "cell_type": "markdown",
   "id": "25d7736c-ba17-4aff-b6bb-66eba20fbf4e",
   "metadata": {
    "id": "25d7736c-ba17-4aff-b6bb-66eba20fbf4e"
   },
   "source": [
    "# Lab | Data Cleaning and Formatting"
   ]
  },
  {
   "cell_type": "markdown",
   "id": "31b8a9e7-7db9-4604-991b-ef6771603e57",
   "metadata": {
    "id": "31b8a9e7-7db9-4604-991b-ef6771603e57"
   },
   "source": [
    "# 01 - Problem"
   ]
  },
  {
   "cell_type": "markdown",
   "id": "81553f19-9f2c-484b-8940-520aff884022",
   "metadata": {
    "id": "81553f19-9f2c-484b-8940-520aff884022"
   },
   "source": [
    "## Case study"
   ]
  },
  {
   "cell_type": "markdown",
   "id": "34a929f4-1be4-4fa8-adda-42ffd920be90",
   "metadata": {
    "id": "34a929f4-1be4-4fa8-adda-42ffd920be90"
   },
   "source": [
    "* Data Description.\n",
    "* Goal"
   ]
  },
  {
   "cell_type": "code",
   "execution_count": 60,
   "id": "c5e950ae",
   "metadata": {},
   "outputs": [],
   "source": [
    "#LAB W.1 \n",
    "#customer data from an insurance company: https://raw.githubusercontent.com/data-bootcamp-v4/data/main/file1.csv"
   ]
  },
  {
   "cell_type": "markdown",
   "id": "9cb501ec-36ff-4589-b872-6252bb150316",
   "metadata": {
    "id": "9cb501ec-36ff-4589-b872-6252bb150316"
   },
   "source": [
    "# 02 - Getting Data"
   ]
  },
  {
   "cell_type": "markdown",
   "id": "771fdcf3-8e20-4b06-9c24-3a93ba2b0909",
   "metadata": {
    "id": "771fdcf3-8e20-4b06-9c24-3a93ba2b0909"
   },
   "source": [
    "* Read the .csv file\n",
    "* Import what's needed"
   ]
  },
  {
   "cell_type": "code",
   "execution_count": 61,
   "id": "188f4df4",
   "metadata": {
    "id": "d1973e9e-8be6-4039-b70e-d73ee0d94c99"
   },
   "outputs": [],
   "source": [
    "import pandas as pd\n",
    "import numpy as np\n",
    "df= pd.read_csv('https://raw.githubusercontent.com/data-bootcamp-v4/data/main/file1.csv')\n"
   ]
  },
  {
   "cell_type": "code",
   "execution_count": 62,
   "id": "a52c6dfc-cd11-4d01-bda4-f719fa33e9a4",
   "metadata": {
    "id": "a52c6dfc-cd11-4d01-bda4-f719fa33e9a4"
   },
   "outputs": [],
   "source": [
    "def cleaning_df(df):\n",
    "    new_cols = []\n",
    "    \n",
    "    for i in range(len(df.columns)):\n",
    "        new_cols.append(df.columns[i].lower().replace(' ', '_'))  # Underscoring\n",
    "        \n",
    "    df.columns = new_cols\n",
    "    df = df.rename(columns={'st': 'state'})\n",
    "    df = df.drop_duplicates()\n",
    "    \n",
    "    # df = df.drop(1071, axis=0)  # Full NaN row\n",
    "    \n",
    "    df['gender'] = df['gender'].fillna('F')  # We choose Mode Female\n",
    "    df['gender'] = np.where(df['gender'].isin(['F', 'female', 'Femal']), 'F', 'M')\n",
    "    \n",
    "    # Removing % in customer value\n",
    "    df['customer_lifetime_value'] = df['customer_lifetime_value'].str.replace('%', '')\n",
    "    \n",
    "    # Convert to dollars and turn into numeric\n",
    "    df['customer_lifetime_value'] = pd.to_numeric(df['customer_lifetime_value'], errors='coerce') / 100\n",
    "    \n",
    "    # Removing the slash ('/')\n",
    "    no_slash_list = []\n",
    "    for item in df['number_of_open_complaints']:\n",
    "        if pd.notna(item):  # Check for NaN before splitting\n",
    "            no_slash_list.append(item.split('/')[1] if '/' in item else item)\n",
    "        else:\n",
    "            no_slash_list.append(item)\n",
    "    df['number_of_open_complaints'] = no_slash_list\n",
    "    \n",
    "    # Turn all to_numeric()\n",
    "    df['number_of_open_complaints'] = pd.to_numeric(df['number_of_open_complaints'], errors='coerce')\n",
    "    df['customer_lifetime_value'] = pd.to_numeric(df['customer_lifetime_value'], errors='coerce')\n",
    "    \n",
    "    return df\n",
    "    \n",
    "        # let's test it\n",
    "df=cleaning_df(df)"
   ]
  },
  {
   "cell_type": "markdown",
   "id": "6f48e2a6",
   "metadata": {},
   "source": [
    "# 03 - Cleaning Data"
   ]
  },
  {
   "cell_type": "markdown",
   "id": "00f65832",
   "metadata": {},
   "source": [
    "* headers names.\n",
    "* NaN and duplicates.\n",
    "* Categorical Features.\n",
    "* Numerical Features.\n",
    "* Exploration."
   ]
  },
  {
   "cell_type": "code",
   "execution_count": 63,
   "id": "cc0ca334",
   "metadata": {},
   "outputs": [
    {
     "data": {
      "text/plain": [
       "customer                      object\n",
       "state                         object\n",
       "gender                        object\n",
       "education                     object\n",
       "customer_lifetime_value      float64\n",
       "income                       float64\n",
       "monthly_premium_auto         float64\n",
       "number_of_open_complaints    float64\n",
       "policy_type                   object\n",
       "vehicle_class                 object\n",
       "total_claim_amount           float64\n",
       "dtype: object"
      ]
     },
     "execution_count": 63,
     "metadata": {},
     "output_type": "execute_result"
    }
   ],
   "source": [
    "#Exploring\n",
    "df.dtypes\n",
    "#df.columns"
   ]
  },
  {
   "cell_type": "code",
   "execution_count": 64,
   "id": "5810735c-8056-4442-bbf2-dda38d3e284a",
   "metadata": {
    "id": "5810735c-8056-4442-bbf2-dda38d3e284a"
   },
   "outputs": [
    {
     "name": "stdout",
     "output_type": "stream",
     "text": [
      "Index(['customer', 'state', 'gender', 'education', 'customer_lifetime_value',\n",
      "       'income', 'monthly_premium_auto', 'number_of_open_complaints',\n",
      "       'policy_type', 'vehicle_class', 'total_claim_amount'],\n",
      "      dtype='object')\n"
     ]
    }
   ],
   "source": [
    "#removing duplicates\n",
    "df.drop_duplicates(keep=False)\n",
    "#column names\n",
    "cols=[]\n",
    "for colname in df.columns:\n",
    "    cols.append(colname.lower())\n",
    "df.columns = cols\n",
    "\n",
    "df.columns=df.columns.str.replace(' ','_')\n",
    "#df['state']=df.column.str.replace('st','state')\n",
    "df.rename(columns={'st':'state'},inplace=True) \n",
    "#inplace=True: assign the result back, as the modification is not-inplace\n",
    "print(df.columns)\n",
    "\n",
    "\n"
   ]
  },
  {
   "cell_type": "code",
   "execution_count": 65,
   "id": "ded3f3fb",
   "metadata": {},
   "outputs": [
    {
     "data": {
      "text/plain": [
       "gender\n",
       "F    620\n",
       "M    452\n",
       "Name: count, dtype: int64"
      ]
     },
     "execution_count": 65,
     "metadata": {},
     "output_type": "execute_result"
    }
   ],
   "source": [
    "df.shape\n",
    "df['gender'].unique()\n",
    "df['gender'].value_counts()\n",
    "## value counts(dropna=False) tells how many NaN there is"
   ]
  },
  {
   "cell_type": "code",
   "execution_count": 66,
   "id": "eb8f5991-73e9-405f-bf1c-6b7c589379a9",
   "metadata": {
    "id": "eb8f5991-73e9-405f-bf1c-6b7c589379a9"
   },
   "outputs": [],
   "source": [
    "#removing the slash using split('/')\n",
    "#no_slash_list=[]\n",
    "#for item in df['number_of_open_complaints']: \n",
    "#    no_slash_list.append(item.split('/')[1]) #(index1) keeps middle number \n",
    "# have created a new list\n",
    "#df['number_of_open_complaints']=no_slash_list\n"
   ]
  },
  {
   "cell_type": "code",
   "execution_count": 67,
   "id": "3f8ee5cb-50ab-48af-8a9f-9a389804033c",
   "metadata": {
    "id": "3f8ee5cb-50ab-48af-8a9f-9a389804033c"
   },
   "outputs": [
    {
     "data": {
      "text/plain": [
       "gender\n",
       "F    620\n",
       "M    452\n",
       "Name: count, dtype: int64"
      ]
     },
     "execution_count": 67,
     "metadata": {},
     "output_type": "execute_result"
    }
   ],
   "source": [
    "# cleaning female male\n",
    "def cleangender(x):\n",
    "    M_target=['Male']\n",
    "    F_target=['Femal', 'female']\n",
    "    \n",
    "    if x in M_target:\n",
    "        return 'M'\n",
    "    elif x in F_target:\n",
    "        return 'F'\n",
    "    else:\n",
    "        return x\n",
    "\n",
    "df['gender'] = list(map(cleangender, df['gender']))\n",
    "df['gender'].unique()\n",
    "df['gender'].value_counts()\n",
    "##FYI startswith() doesnt work  \n",
    "##error 'float' object has no attribute 'startswith'\n",
    "##other way around: np.where()isin[](see bonus 1)"
   ]
  },
  {
   "cell_type": "code",
   "execution_count": 68,
   "id": "2c11aaf2",
   "metadata": {},
   "outputs": [
    {
     "data": {
      "text/plain": [
       "state\n",
       "California    331\n",
       "Oregon        320\n",
       "Arizona       211\n",
       "Washington    111\n",
       "Nevada         98\n",
       "Name: count, dtype: int64"
      ]
     },
     "execution_count": 68,
     "metadata": {},
     "output_type": "execute_result"
    }
   ],
   "source": [
    "df['state'].unique()\n",
    "# cleaning states\n",
    "def cleanstate(x):\n",
    "    if x == 'WA':\n",
    "        return 'Washington'\n",
    "    elif x =='AZ':\n",
    "        return 'Arizona'\n",
    "    elif x=='Cali':\n",
    "        return 'California'\n",
    "    else:\n",
    "        return x\n",
    "\n",
    "df['state'] = list(map(cleanstate, df['state']))\n",
    "df['state'].value_counts()\n",
    "\n",
    "\n",
    "##other way around: using dictionaries {}"
   ]
  },
  {
   "cell_type": "code",
   "execution_count": 69,
   "id": "8556acae",
   "metadata": {},
   "outputs": [
    {
     "data": {
      "text/plain": [
       "education\n",
       "Bachelor                331\n",
       "College                 313\n",
       "High School or Below    296\n",
       "Master                   94\n",
       "Doctor                   37\n",
       "Name: count, dtype: int64"
      ]
     },
     "execution_count": 69,
     "metadata": {},
     "output_type": "execute_result"
    }
   ],
   "source": [
    "#cleaning education\n",
    "df['education']=df['education'].str.replace('Bachelors', 'Bachelor')\n",
    "df['education'].value_counts()"
   ]
  },
  {
   "cell_type": "code",
   "execution_count": 70,
   "id": "f642c551",
   "metadata": {},
   "outputs": [
    {
     "data": {
      "text/plain": [
       "vehicle_class\n",
       "Four-Door Car    576\n",
       "Two-Door Car     205\n",
       "SUV              199\n",
       "Luxury            91\n",
       "Name: count, dtype: int64"
      ]
     },
     "execution_count": 70,
     "metadata": {},
     "output_type": "execute_result"
    }
   ],
   "source": [
    "# cleaning car class\n",
    "def cleancarclass(x):\n",
    "    luxury_target=['Luxury SUV','Luxury Car','Sports Car']\n",
    "    if x in luxury_target:\n",
    "        return 'Luxury'\n",
    "    else:\n",
    "        return x\n",
    "\n",
    "df['vehicle_class'] = list(map(cleancarclass, df['vehicle_class']))\n",
    "df['vehicle_class'].value_counts()"
   ]
  },
  {
   "cell_type": "code",
   "execution_count": 71,
   "id": "afcae0a9",
   "metadata": {},
   "outputs": [],
   "source": [
    "# removing % in customer value \n",
    "#df['customer_lifetime_value']=df['customer_lifetime_value'].str.replace('%', '')\n",
    "# convert to dollars and turn into numeric\n",
    "#df['customer_lifetime_value']=pd.to_numeric(df['customer_lifetime_value'], errors='coerce')/100\n"
   ]
  },
  {
   "cell_type": "code",
   "execution_count": 72,
   "id": "d9f694ce",
   "metadata": {},
   "outputs": [],
   "source": [
    "# turn new list to_numeric()\n",
    "df['number_of_open_complaints']=pd.to_numeric(df['number_of_open_complaints'],errors='coerce')"
   ]
  },
  {
   "cell_type": "code",
   "execution_count": 73,
   "id": "9e7e59e0",
   "metadata": {},
   "outputs": [],
   "source": [
    "# let's see the percentage of null values in a column\n",
    "#df.isnull()\n",
    "#round(df.isna().sum()/len(df),4)*100  \n",
    "#nulls_df = pd.df(round(df.isna().sum()/len(df),4)*100)\n",
    "#nulls_df.columns = ['header_name', 'percent_nulls']\n",
    "#nulls_df"
   ]
  },
  {
   "cell_type": "markdown",
   "id": "85ff78ce-0174-4890-9db3-8048b7d7d2d0",
   "metadata": {
    "id": "85ff78ce-0174-4890-9db3-8048b7d7d2d0"
   },
   "source": [
    "# 04 - Processing Data"
   ]
  },
  {
   "cell_type": "markdown",
   "id": "b91c2cf8-79a2-4baf-9f65-ff2fb22270bd",
   "metadata": {
    "id": "b91c2cf8-79a2-4baf-9f65-ff2fb22270bd"
   },
   "source": [
    "* Dealing with outliers.\n",
    "* Normalization.\n",
    "* Encoding Categorical Data.\n",
    "* Splitting into train set and test set."
   ]
  },
  {
   "cell_type": "markdown",
   "id": "43e5d853-ff9e-43b2-9d92-aef2f78764f3",
   "metadata": {
    "id": "43e5d853-ff9e-43b2-9d92-aef2f78764f3"
   },
   "source": [
    "* Apply model."
   ]
  },
  {
   "cell_type": "code",
   "execution_count": 74,
   "id": "c3fe7400",
   "metadata": {},
   "outputs": [],
   "source": [
    "df=df.drop_duplicates() #we assume duplicates are those with NaN in all columns\n",
    " #previous command drops everything except the first duplicate\n",
    "df=df.drop(1071,axis=0,inplace=True)"
   ]
  },
  {
   "cell_type": "code",
   "execution_count": 75,
   "id": "cc370f58",
   "metadata": {},
   "outputs": [],
   "source": [
    "#df[df['state'].isnull()==True]\n",
    "#dropna shows how many nulls there are also\n",
    "#df['state'].value_counts(dropna=False) \n"
   ]
  },
  {
   "cell_type": "code",
   "execution_count": 76,
   "id": "f184fc35-7831-4836-a0a5-e7f99e01b40e",
   "metadata": {
    "id": "f184fc35-7831-4836-a0a5-e7f99e01b40e"
   },
   "outputs": [
    {
     "ename": "TypeError",
     "evalue": "'NoneType' object is not subscriptable",
     "output_type": "error",
     "traceback": [
      "\u001b[0;31m---------------------------------------------------------------------------\u001b[0m",
      "\u001b[0;31mTypeError\u001b[0m                                 Traceback (most recent call last)",
      "Cell \u001b[0;32mIn[76], line 3\u001b[0m\n\u001b[1;32m      1\u001b[0m \u001b[38;5;66;03m#MISSING VALUES\u001b[39;00m\n\u001b[1;32m      2\u001b[0m \u001b[38;5;66;03m#CATEGORICAL we fill with the Mode which is Oregon\u001b[39;00m\n\u001b[0;32m----> 3\u001b[0m df[\u001b[38;5;124m'\u001b[39m\u001b[38;5;124mstate\u001b[39m\u001b[38;5;124m'\u001b[39m]\u001b[38;5;241m=\u001b[39mdf[\u001b[38;5;124m'\u001b[39m\u001b[38;5;124mstate\u001b[39m\u001b[38;5;124m'\u001b[39m]\u001b[38;5;241m.\u001b[39mfillna(\u001b[38;5;124m'\u001b[39m\u001b[38;5;124mOregon\u001b[39m\u001b[38;5;124m'\u001b[39m)\n\u001b[1;32m      5\u001b[0m \u001b[38;5;66;03m#ORDINAL we fill with the mean\u001b[39;00m\n\u001b[1;32m      6\u001b[0m mean_income\u001b[38;5;241m=\u001b[39mdf[\u001b[38;5;124m'\u001b[39m\u001b[38;5;124mincome\u001b[39m\u001b[38;5;124m'\u001b[39m]\u001b[38;5;241m.\u001b[39mmean()\n",
      "\u001b[0;31mTypeError\u001b[0m: 'NoneType' object is not subscriptable"
     ]
    }
   ],
   "source": [
    "#MISSING VALUES\n",
    "#CATEGORICAL we fill with the Mode which is Oregon\n",
    "df['state']=df['state'].fillna('Oregon')\n",
    "\n",
    "#ORDINAL we fill with the mean\n",
    "mean_income=df['income'].mean()\n",
    "mean_income\n",
    "df['income']=df['income'].fillna(mean_income)\n",
    "df.isna().sum #check\n",
    "\n",
    "#lets remove the decimals with round"
   ]
  },
  {
   "cell_type": "code",
   "execution_count": null,
   "id": "1929362c-47ed-47cb-baca-358b78d401a0",
   "metadata": {
    "id": "1929362c-47ed-47cb-baca-358b78d401a0"
   },
   "outputs": [],
   "source": [
    "## adding index=False (you dont get unamed 0 column when opening it again)"
   ]
  },
  {
   "cell_type": "code",
   "execution_count": null,
   "id": "211e82b5-461a-4d6f-8a23-4deccb84173c",
   "metadata": {
    "id": "211e82b5-461a-4d6f-8a23-4deccb84173c"
   },
   "outputs": [],
   "source": [
    "##pd.to_numeric(df['number_of_open_complaints'], errors='coerce')"
   ]
  },
  {
   "cell_type": "markdown",
   "id": "60840701-4783-40e2-b4d8-55303f9100c9",
   "metadata": {
    "id": "60840701-4783-40e2-b4d8-55303f9100c9"
   },
   "source": [
    "# 05 - Modeling"
   ]
  },
  {
   "cell_type": "code",
   "execution_count": 77,
   "id": "b202ace7",
   "metadata": {},
   "outputs": [],
   "source": [
    "#install\n",
    "import matplotlib.pyplot as plt\n",
    "import seaborn as sns \n",
    "%matplotlib inline"
   ]
  },
  {
   "cell_type": "code",
   "execution_count": 80,
   "id": "e97b56dd",
   "metadata": {},
   "outputs": [
    {
     "ename": "ValueError",
     "evalue": "could not convert string to float: 'gender'",
     "output_type": "error",
     "traceback": [
      "\u001b[0;31m---------------------------------------------------------------------------\u001b[0m",
      "\u001b[0;31mValueError\u001b[0m                                Traceback (most recent call last)",
      "Cell \u001b[0;32mIn[80], line 2\u001b[0m\n\u001b[1;32m      1\u001b[0m \u001b[38;5;66;03m#Show a plot of the Gender breakdown.\u001b[39;00m\n\u001b[0;32m----> 2\u001b[0m sns\u001b[38;5;241m.\u001b[39mcountplot(\u001b[38;5;124m'\u001b[39m\u001b[38;5;124mgender\u001b[39m\u001b[38;5;124m'\u001b[39m)\n\u001b[1;32m      3\u001b[0m plt\u001b[38;5;241m.\u001b[39mylabel(\u001b[38;5;124m'\u001b[39m\u001b[38;5;124mGender Composition\u001b[39m\u001b[38;5;124m'\u001b[39m) \u001b[38;5;66;03m#adding a title. thanks Sandra!\u001b[39;00m\n\u001b[1;32m      4\u001b[0m \u001b[38;5;66;03m#Conclusion: more Female clients than Male clients\u001b[39;00m\n\u001b[1;32m      5\u001b[0m \n\u001b[1;32m      6\u001b[0m \u001b[38;5;66;03m#Show a plot of Income by State.\u001b[39;00m\n",
      "File \u001b[0;32m~/anaconda3/lib/python3.11/site-packages/seaborn/categorical.py:2943\u001b[0m, in \u001b[0;36mcountplot\u001b[0;34m(data, x, y, hue, order, hue_order, orient, color, palette, saturation, width, dodge, ax, **kwargs)\u001b[0m\n\u001b[1;32m   2940\u001b[0m \u001b[38;5;28;01melif\u001b[39;00m x \u001b[38;5;129;01mis\u001b[39;00m \u001b[38;5;129;01mnot\u001b[39;00m \u001b[38;5;28;01mNone\u001b[39;00m \u001b[38;5;129;01mand\u001b[39;00m y \u001b[38;5;129;01mis\u001b[39;00m \u001b[38;5;129;01mnot\u001b[39;00m \u001b[38;5;28;01mNone\u001b[39;00m:\n\u001b[1;32m   2941\u001b[0m     \u001b[38;5;28;01mraise\u001b[39;00m \u001b[38;5;167;01mValueError\u001b[39;00m(\u001b[38;5;124m\"\u001b[39m\u001b[38;5;124mCannot pass values for both `x` and `y`\u001b[39m\u001b[38;5;124m\"\u001b[39m)\n\u001b[0;32m-> 2943\u001b[0m plotter \u001b[38;5;241m=\u001b[39m _CountPlotter(\n\u001b[1;32m   2944\u001b[0m     x, y, hue, data, order, hue_order,\n\u001b[1;32m   2945\u001b[0m     estimator, errorbar, n_boot, units, seed,\n\u001b[1;32m   2946\u001b[0m     orient, color, palette, saturation,\n\u001b[1;32m   2947\u001b[0m     width, errcolor, errwidth, capsize, dodge\n\u001b[1;32m   2948\u001b[0m )\n\u001b[1;32m   2950\u001b[0m plotter\u001b[38;5;241m.\u001b[39mvalue_label \u001b[38;5;241m=\u001b[39m \u001b[38;5;124m\"\u001b[39m\u001b[38;5;124mcount\u001b[39m\u001b[38;5;124m\"\u001b[39m\n\u001b[1;32m   2952\u001b[0m \u001b[38;5;28;01mif\u001b[39;00m ax \u001b[38;5;129;01mis\u001b[39;00m \u001b[38;5;28;01mNone\u001b[39;00m:\n",
      "File \u001b[0;32m~/anaconda3/lib/python3.11/site-packages/seaborn/categorical.py:1530\u001b[0m, in \u001b[0;36m_BarPlotter.__init__\u001b[0;34m(self, x, y, hue, data, order, hue_order, estimator, errorbar, n_boot, units, seed, orient, color, palette, saturation, width, errcolor, errwidth, capsize, dodge)\u001b[0m\n\u001b[1;32m   1525\u001b[0m \u001b[38;5;28;01mdef\u001b[39;00m \u001b[38;5;21m__init__\u001b[39m(\u001b[38;5;28mself\u001b[39m, x, y, hue, data, order, hue_order,\n\u001b[1;32m   1526\u001b[0m              estimator, errorbar, n_boot, units, seed,\n\u001b[1;32m   1527\u001b[0m              orient, color, palette, saturation, width,\n\u001b[1;32m   1528\u001b[0m              errcolor, errwidth, capsize, dodge):\n\u001b[1;32m   1529\u001b[0m \u001b[38;5;250m    \u001b[39m\u001b[38;5;124;03m\"\"\"Initialize the plotter.\"\"\"\u001b[39;00m\n\u001b[0;32m-> 1530\u001b[0m     \u001b[38;5;28mself\u001b[39m\u001b[38;5;241m.\u001b[39mestablish_variables(x, y, hue, data, orient,\n\u001b[1;32m   1531\u001b[0m                              order, hue_order, units)\n\u001b[1;32m   1532\u001b[0m     \u001b[38;5;28mself\u001b[39m\u001b[38;5;241m.\u001b[39mestablish_colors(color, palette, saturation)\n\u001b[1;32m   1533\u001b[0m     \u001b[38;5;28mself\u001b[39m\u001b[38;5;241m.\u001b[39mestimate_statistic(estimator, errorbar, n_boot, seed)\n",
      "File \u001b[0;32m~/anaconda3/lib/python3.11/site-packages/seaborn/categorical.py:516\u001b[0m, in \u001b[0;36m_CategoricalPlotter.establish_variables\u001b[0;34m(self, x, y, hue, data, orient, order, hue_order, units)\u001b[0m\n\u001b[1;32m    513\u001b[0m     plot_data \u001b[38;5;241m=\u001b[39m data\n\u001b[1;32m    515\u001b[0m \u001b[38;5;66;03m# Convert to a list of arrays, the common representation\u001b[39;00m\n\u001b[0;32m--> 516\u001b[0m plot_data \u001b[38;5;241m=\u001b[39m [np\u001b[38;5;241m.\u001b[39masarray(d, \u001b[38;5;28mfloat\u001b[39m) \u001b[38;5;28;01mfor\u001b[39;00m d \u001b[38;5;129;01min\u001b[39;00m plot_data]\n\u001b[1;32m    518\u001b[0m \u001b[38;5;66;03m# The group names will just be numeric indices\u001b[39;00m\n\u001b[1;32m    519\u001b[0m group_names \u001b[38;5;241m=\u001b[39m \u001b[38;5;28mlist\u001b[39m(\u001b[38;5;28mrange\u001b[39m(\u001b[38;5;28mlen\u001b[39m(plot_data)))\n",
      "File \u001b[0;32m~/anaconda3/lib/python3.11/site-packages/seaborn/categorical.py:516\u001b[0m, in \u001b[0;36m<listcomp>\u001b[0;34m(.0)\u001b[0m\n\u001b[1;32m    513\u001b[0m     plot_data \u001b[38;5;241m=\u001b[39m data\n\u001b[1;32m    515\u001b[0m \u001b[38;5;66;03m# Convert to a list of arrays, the common representation\u001b[39;00m\n\u001b[0;32m--> 516\u001b[0m plot_data \u001b[38;5;241m=\u001b[39m [np\u001b[38;5;241m.\u001b[39masarray(d, \u001b[38;5;28mfloat\u001b[39m) \u001b[38;5;28;01mfor\u001b[39;00m d \u001b[38;5;129;01min\u001b[39;00m plot_data]\n\u001b[1;32m    518\u001b[0m \u001b[38;5;66;03m# The group names will just be numeric indices\u001b[39;00m\n\u001b[1;32m    519\u001b[0m group_names \u001b[38;5;241m=\u001b[39m \u001b[38;5;28mlist\u001b[39m(\u001b[38;5;28mrange\u001b[39m(\u001b[38;5;28mlen\u001b[39m(plot_data)))\n",
      "\u001b[0;31mValueError\u001b[0m: could not convert string to float: 'gender'"
     ]
    }
   ],
   "source": [
    "\n",
    "#Show a plot of the Gender breakdown.\n",
    "sns.countplot('gender')\n",
    "plt.ylabel('Gender Composition') #adding a title. thanks Sandra!\n",
    "#Conclusion: more Female clients than Male clients\n",
    "\n",
    "#Show a plot of Income by State.\n",
    "sns.barplot(x=\"state\",y=\"income\",data=df)\n",
    "plt.ylabel('Income by state')\n",
    "plt.show()\n",
    "#Conclusion: clients in Washington have the highest income averages"
   ]
  },
  {
   "cell_type": "code",
   "execution_count": null,
   "id": "b749f4f4",
   "metadata": {},
   "outputs": [],
   "source": [
    "#Show a plot of the Policy Type by the Total Claim Amount.\n",
    "sns.barplot(x=\"policy_type\", x=\"total_claim_amount\",data=df\n",
    "plt.show()\n"
   ]
  },
  {
   "cell_type": "code",
   "execution_count": null,
   "id": "87e0aa38",
   "metadata": {},
   "outputs": [],
   "source": [
    "#Show a plot of the Education by Vehicle Class. both are categorical. \n",
    "sns.histplot(x=\"education\", hue=\"vehicle_class\",data=df, multiple='stack')\n",
    "plt.show()\n"
   ]
  },
  {
   "cell_type": "code",
   "execution_count": null,
   "id": "8c342041",
   "metadata": {},
   "outputs": [],
   "source": [
    "#hue gives the other one as hue. barplot needs numeric so we do hist\n",
    "sns.histplot(x=\"education\", hue=\"vehicle_class\",data=df1,multiple='stack')\n",
    "#multiple = stack : separates the colours by stacking\n",
    "plt.show()\n",
    "#looks like people with least "
   ]
  },
  {
   "cell_type": "code",
   "execution_count": null,
   "id": "75dea49d",
   "metadata": {},
   "outputs": [],
   "source": [
    "\n",
    "#some skewed to the right\n",
    "#if anything is multicollinear we would drop it; but there isnt\n",
    "#negative influence of the income"
   ]
  },
  {
   "cell_type": "markdown",
   "id": "876d310b",
   "metadata": {},
   "source": [
    "# 06 - Model Validation\n",
    " "
   ]
  },
  {
   "cell_type": "markdown",
   "id": "edc05e98",
   "metadata": {},
   "source": [
    "Scaling (numerical)"
   ]
  },
  {
   "cell_type": "code",
   "execution_count": 81,
   "id": "614a5443",
   "metadata": {},
   "outputs": [
    {
     "ename": "TypeError",
     "evalue": "'NoneType' object is not subscriptable",
     "output_type": "error",
     "traceback": [
      "\u001b[0;31m---------------------------------------------------------------------------\u001b[0m",
      "\u001b[0;31mTypeError\u001b[0m                                 Traceback (most recent call last)",
      "Cell \u001b[0;32mIn[81], line 2\u001b[0m\n\u001b[1;32m      1\u001b[0m \u001b[38;5;66;03m#splitting Y (our target) and X (ALL our features)\u001b[39;00m\n\u001b[0;32m----> 2\u001b[0m y \u001b[38;5;241m=\u001b[39m df[\u001b[38;5;124m'\u001b[39m\u001b[38;5;124mtotal_claim_amount\u001b[39m\u001b[38;5;124m'\u001b[39m]\n\u001b[1;32m      3\u001b[0m X\u001b[38;5;241m=\u001b[39mdf\u001b[38;5;241m.\u001b[39mdrop([\u001b[38;5;124m'\u001b[39m\u001b[38;5;124mtotal_claim_amount\u001b[39m\u001b[38;5;124m'\u001b[39m], axis\u001b[38;5;241m=\u001b[39m\u001b[38;5;241m1\u001b[39m) \n\u001b[1;32m      4\u001b[0m \u001b[38;5;66;03m#all the rest. iloc could also be used\u001b[39;00m\n\u001b[1;32m      5\u001b[0m \n\u001b[1;32m      6\u001b[0m \u001b[38;5;66;03m#'customers' is useless so drop it too\u001b[39;00m\n",
      "\u001b[0;31mTypeError\u001b[0m: 'NoneType' object is not subscriptable"
     ]
    }
   ],
   "source": [
    "#splitting Y (our target) and X (ALL our features)\n",
    "y = df['total_claim_amount']\n",
    "X=df.drop(['total_claim_amount'], axis=1) \n",
    "#all the rest. iloc could also be used\n",
    "\n",
    "#'customers' is useless so drop it too\n",
    "\n",
    "X_num=X.select_dtypes(include = np.number)\n",
    "X_cat=X.select_dtype(include=object) #that would be :\n",
    "#'customer', 'state', 'gender', 'education','policy_type', 'vehicle_class'\n",
    "\n",
    "##SCALING##\n",
    "# Normalize using minmaxscaler\n",
    "transformer = MinMaxScaler().fit(X_num)\n",
    "x_normalized = transformer.transform(X_num)\n",
    "print(x_normalized.shape)\n",
    "x_normalized\n",
    "datanorm = pd.DataFrame(x_normalized, columns=X_num.columns) \n",
    "\n",
    "# Plot the distributions again.\n",
    "for i in range(3):\n",
    "    sns.distplot(datanorm.iloc[:,i])\n",
    "    plt.show()"
   ]
  },
  {
   "cell_type": "code",
   "execution_count": null,
   "id": "2d8fc689",
   "metadata": {},
   "outputs": [],
   "source": [
    "from sklearn.preprocessing import OneHotEncoder\n",
    "encoder = OneHotEncoder(drop='first').fit(X_cat)\n",
    "cols = encoder.get_feature_names(input_features=X_cat.columns)\n",
    "X_cat_encode = pd.DataFrame(encoder.transform(X_cat).toarray(),columns=cols)\n",
    "X_cat_encode.head()\n",
    "\n",
    "X=pd.concat([X_num_scale, X_cat_encode], axis=1) \n"
   ]
  },
  {
   "cell_type": "code",
   "execution_count": null,
   "id": "011d6d24",
   "metadata": {},
   "outputs": [],
   "source": [
    "sns.countplot(data= x_normalized,x='monthly_premium_auto')"
   ]
  },
  {
   "cell_type": "code",
   "execution_count": null,
   "id": "22d5047f",
   "metadata": {},
   "outputs": [],
   "source": [
    "correlations = x_normalized.corr()\n",
    "correlations"
   ]
  },
  {
   "cell_type": "markdown",
   "id": "da6a8872",
   "metadata": {},
   "source": [
    "Train test split"
   ]
  },
  {
   "cell_type": "code",
   "execution_count": null,
   "id": "6a2cf1e5",
   "metadata": {},
   "outputs": [],
   "source": [
    "from sklearn.model_selection import train_test_split as tts\n",
    "\n",
    "X_train, X_test, y_train, y_test=tts(X, y, test_size=.2)"
   ]
  },
  {
   "cell_type": "code",
   "execution_count": null,
   "id": "469a32d4",
   "metadata": {},
   "outputs": [],
   "source": [
    "from sklearn.linear_model import LinearRegression as linreg\n",
    "\n",
    "lm = linreg()    # model\n",
    "lm.fit(X_train, y_train)   # model training\n",
    "y_pred = lm.predict(X_test)   # model prediction\n"
   ]
  },
  {
   "cell_type": "markdown",
   "id": "329ca691-9196-4419-8969-3596746237a1",
   "metadata": {
    "id": "329ca691-9196-4419-8969-3596746237a1"
   },
   "source": [
    "* R2.\n",
    "* MSE.\n",
    "* RMSE.\n",
    "* MAE."
   ]
  },
  {
   "cell_type": "code",
   "execution_count": null,
   "id": "d6ab0304",
   "metadata": {},
   "outputs": [],
   "source": [
    "#R2\n",
    "print ('train R2: {} -- test R2: {}'.format(lm.score(X_train, y_train),\n",
    "                                            lm.score(X_test, y_test)))"
   ]
  },
  {
   "cell_type": "code",
   "execution_count": null,
   "id": "080bbcbf",
   "metadata": {},
   "outputs": [],
   "source": [
    "#MSE\n",
    "from sklearn.metrics import mean_squared_error as mse\n",
    "\n",
    "\n",
    "train_mse=mse(lm.predict(X_train), y_train)\n",
    "test_mse=mse(y_pred, y_test)\n",
    "\n",
    "print ('train MSE: {} -- test MSE: {}'.format(train_mse, test_mse))"
   ]
  },
  {
   "cell_type": "code",
   "execution_count": null,
   "id": "d483cb87",
   "metadata": {},
   "outputs": [],
   "source": []
  },
  {
   "cell_type": "markdown",
   "id": "14c52e28-2d0c-4dd2-8bd5-3476e34fadc1",
   "metadata": {
    "id": "14c52e28-2d0c-4dd2-8bd5-3476e34fadc1"
   },
   "source": [
    "# 07 - Reporting"
   ]
  },
  {
   "cell_type": "markdown",
   "id": "34b9a20f-7d32-4417-975e-1b4dfb0e16cd",
   "metadata": {
    "id": "34b9a20f-7d32-4417-975e-1b4dfb0e16cd"
   },
   "source": [
    "* Present results."
   ]
  },
  {
   "cell_type": "code",
   "execution_count": null,
   "id": "891b7af9",
   "metadata": {},
   "outputs": [],
   "source": []
  },
  {
   "cell_type": "code",
   "execution_count": null,
   "id": "a6efa7f5",
   "metadata": {},
   "outputs": [],
   "source": []
  }
 ],
 "metadata": {
  "colab": {
   "provenance": []
  },
  "kernelspec": {
   "display_name": "Python 3 (ipykernel)",
   "language": "python",
   "name": "python3"
  },
  "language_info": {
   "codemirror_mode": {
    "name": "ipython",
    "version": 3
   },
   "file_extension": ".py",
   "mimetype": "text/x-python",
   "name": "python",
   "nbconvert_exporter": "python",
   "pygments_lexer": "ipython3",
   "version": "3.11.5"
  }
 },
 "nbformat": 4,
 "nbformat_minor": 5
}
