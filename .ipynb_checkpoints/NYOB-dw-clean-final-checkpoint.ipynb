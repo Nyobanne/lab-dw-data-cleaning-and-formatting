{
 "cells": [
  {
   "cell_type": "markdown",
   "id": "25d7736c-ba17-4aff-b6bb-66eba20fbf4e",
   "metadata": {
    "id": "25d7736c-ba17-4aff-b6bb-66eba20fbf4e"
   },
   "source": [
    "# Lab | Data Cleaning and Formatting"
   ]
  },
  {
   "cell_type": "markdown",
   "id": "d1973e9e-8be6-4039-b70e-d73ee0d94c99",
   "metadata": {
    "id": "d1973e9e-8be6-4039-b70e-d73ee0d94c99"
   },
   "source": [
    "In this lab, we will be working with the customer data from an insurance company, which can be found in the CSV file located at the following link: https://raw.githubusercontent.com/data-bootcamp-v4/data/main/file1.csv\n"
   ]
  },
  {
   "cell_type": "markdown",
   "id": "31b8a9e7-7db9-4604-991b-ef6771603e57",
   "metadata": {
    "id": "31b8a9e7-7db9-4604-991b-ef6771603e57"
   },
   "source": [
    "# Challenge 1: Data Cleaning and Formatting"
   ]
  },
  {
   "cell_type": "markdown",
   "id": "81553f19-9f2c-484b-8940-520aff884022",
   "metadata": {
    "id": "81553f19-9f2c-484b-8940-520aff884022"
   },
   "source": [
    "## Exercise 1: Cleaning Column Names"
   ]
  },
  {
   "cell_type": "markdown",
   "id": "34a929f4-1be4-4fa8-adda-42ffd920be90",
   "metadata": {
    "id": "34a929f4-1be4-4fa8-adda-42ffd920be90"
   },
   "source": [
    "To ensure consistency and ease of use, standardize the column names of the dataframe. Start by taking a first look at the dataframe and identifying any column names that need to be modified. Use appropriate naming conventions and make sure that column names are descriptive and informative.\n",
    "\n",
    "*Hint*:\n",
    "- *Column names should be in lower case*\n",
    "- *White spaces in column names should be replaced by `_`*\n",
    "- *`st` could be replaced for `state`*"
   ]
  },
  {
   "cell_type": "code",
   "execution_count": 2,
   "id": "5810735c-8056-4442-bbf2-dda38d3e284a",
   "metadata": {
    "id": "5810735c-8056-4442-bbf2-dda38d3e284a"
   },
   "outputs": [
    {
     "name": "stdout",
     "output_type": "stream",
     "text": [
      "Index(['customer', 'state', 'gender', 'education', 'customer_lifetime_value',\n",
      "       'income', 'monthly_premium_auto', 'number_of_open_complaints',\n",
      "       'policy_type', 'vehicle_class', 'total_claim_amount'],\n",
      "      dtype='object')\n"
     ]
    }
   ],
   "source": [
    "##remarks with double## are for me only##\n",
    "\n",
    "import pandas as pd\n",
    "import numpy as np\n",
    "df= pd.read_csv('https://raw.githubusercontent.com/data-bootcamp-v4/data/main/file1.csv')\n",
    "\n",
    "#lots of duplicates\n",
    "df.drop_duplicates(keep=False)\n",
    "\n",
    "cols=[]\n",
    "for colname in df.columns:\n",
    "    cols.append(colname.lower())\n",
    "df.columns = cols\n",
    "\n",
    "df.columns=df.columns.str.replace(' ','_')\n",
    "#df['state']=df.column.str.replace('st','state')\n",
    "df.rename(columns={'st':'state'},inplace=True) \n",
    "#inplace=True: assign the result back, as the modification is not-inplace\n",
    "print(df.columns)\n",
    "\n",
    "\n"
   ]
  },
  {
   "cell_type": "markdown",
   "id": "9cb501ec-36ff-4589-b872-6252bb150316",
   "metadata": {
    "id": "9cb501ec-36ff-4589-b872-6252bb150316"
   },
   "source": [
    "## Exercise 2: Cleaning invalid Values"
   ]
  },
  {
   "cell_type": "markdown",
   "id": "771fdcf3-8e20-4b06-9c24-3a93ba2b0909",
   "metadata": {
    "id": "771fdcf3-8e20-4b06-9c24-3a93ba2b0909"
   },
   "source": [
    "The dataset contains columns with inconsistent and incorrect values that could affect the accuracy of our analysis. Therefore, we need to clean these columns to ensure that they only contain valid data.\n",
    "\n",
    "Note that this exercise will focus only on cleaning inconsistent values and will not involve handling null values (NaN or None).\n",
    "\n",
    "*Hint*:\n",
    "- *Gender column contains various inconsistent values such as \"F\", \"M\", \"Femal\", \"Male\", \"female\", which need to be standardized, for example, to \"M\" and \"F\".*\n",
    "- *State abbreviations be can replaced with its full name, for example \"AZ\": \"Arizona\", \"Cali\": \"California\", \"WA\": \"Washington\"*\n",
    "- *In education, \"Bachelors\" could be replaced by \"Bachelor\"*\n",
    "- *In Customer Lifetime Value, delete the `%` character*\n",
    "- *In vehicle class, \"Sports Car\", \"Luxury SUV\" and \"Luxury Car\" could be replaced by \"Luxury\"*"
   ]
  },
  {
   "cell_type": "code",
   "execution_count": 3,
   "id": "cc0ca334",
   "metadata": {},
   "outputs": [
    {
     "data": {
      "text/plain": [
       "customer                      object\n",
       "state                         object\n",
       "gender                        object\n",
       "education                     object\n",
       "customer_lifetime_value       object\n",
       "income                       float64\n",
       "monthly_premium_auto         float64\n",
       "number_of_open_complaints     object\n",
       "policy_type                   object\n",
       "vehicle_class                 object\n",
       "total_claim_amount           float64\n",
       "dtype: object"
      ]
     },
     "execution_count": 3,
     "metadata": {},
     "output_type": "execute_result"
    }
   ],
   "source": [
    "#indicating content types\n",
    "df.dtypes"
   ]
  },
  {
   "cell_type": "code",
   "execution_count": 4,
   "id": "ded3f3fb",
   "metadata": {},
   "outputs": [
    {
     "data": {
      "text/plain": [
       "gender\n",
       "F         457\n",
       "M         413\n",
       "Male       39\n",
       "female     28\n",
       "Femal      17\n",
       "Name: count, dtype: int64"
      ]
     },
     "execution_count": 4,
     "metadata": {},
     "output_type": "execute_result"
    }
   ],
   "source": [
    "df.shape\n",
    "df['gender'].unique()\n",
    "df['gender'].value_counts()\n",
    "## value counts(dropna=False) tells how many NaN there is\n"
   ]
  },
  {
   "cell_type": "code",
   "execution_count": null,
   "id": "2aa89598",
   "metadata": {},
   "outputs": [],
   "source": [
    "df.columns"
   ]
  },
  {
   "cell_type": "code",
   "execution_count": null,
   "id": "3f8ee5cb-50ab-48af-8a9f-9a389804033c",
   "metadata": {
    "id": "3f8ee5cb-50ab-48af-8a9f-9a389804033c"
   },
   "outputs": [],
   "source": [
    "# cleaning female male\n",
    "def cleangender(x):\n",
    "    M_target=['Male']\n",
    "    F_target=['Femal', 'female']\n",
    "    \n",
    "    if x in M_target:\n",
    "        return 'M'\n",
    "    elif x in F_target:\n",
    "        return 'F'\n",
    "    else:\n",
    "        return x\n",
    "\n",
    "df['gender'] = list(map(cleangender, df['gender']))\n",
    "df['gender'].unique()\n",
    "df['gender'].value_counts()\n",
    "##FYI startswith() doesnt work  \n",
    "##error 'float' object has no attribute 'startswith'\n",
    "##other way around: np.where()isin[](see bonus 1)"
   ]
  },
  {
   "cell_type": "code",
   "execution_count": 5,
   "id": "2c11aaf2",
   "metadata": {},
   "outputs": [
    {
     "data": {
      "text/plain": [
       "state\n",
       "California    331\n",
       "Oregon        320\n",
       "Arizona       211\n",
       "Washington    111\n",
       "Nevada         98\n",
       "Name: count, dtype: int64"
      ]
     },
     "execution_count": 5,
     "metadata": {},
     "output_type": "execute_result"
    }
   ],
   "source": [
    "df['state'].unique()\n",
    "# cleaning states\n",
    "def cleanstate(x):\n",
    "    if x == 'WA':\n",
    "        return 'Washington'\n",
    "    elif x =='AZ':\n",
    "        return 'Arizona'\n",
    "    elif x=='Cali':\n",
    "        return 'California'\n",
    "    else:\n",
    "        return x\n",
    "\n",
    "df['state'] = list(map(cleanstate, df['state']))\n",
    "df['state'].value_counts()\n",
    "\n",
    "\n",
    "##other way around: using dictionaries {}"
   ]
  },
  {
   "cell_type": "code",
   "execution_count": 6,
   "id": "8556acae",
   "metadata": {},
   "outputs": [
    {
     "data": {
      "text/plain": [
       "education\n",
       "Bachelor                331\n",
       "College                 313\n",
       "High School or Below    296\n",
       "Master                   94\n",
       "Doctor                   37\n",
       "Name: count, dtype: int64"
      ]
     },
     "execution_count": 6,
     "metadata": {},
     "output_type": "execute_result"
    }
   ],
   "source": [
    "#cleaning education\n",
    "df['education']=df['education'].str.replace('Bachelors', 'Bachelor')\n",
    "df['education'].value_counts()"
   ]
  },
  {
   "cell_type": "code",
   "execution_count": 7,
   "id": "f642c551",
   "metadata": {},
   "outputs": [
    {
     "data": {
      "text/plain": [
       "vehicle_class\n",
       "Four-Door Car    576\n",
       "Two-Door Car     205\n",
       "SUV              199\n",
       "Luxury            91\n",
       "Name: count, dtype: int64"
      ]
     },
     "execution_count": 7,
     "metadata": {},
     "output_type": "execute_result"
    }
   ],
   "source": [
    "# cleaning car class\n",
    "def cleancarclass(x):\n",
    "    luxury_target=['Luxury SUV','Luxury Car','Sports Car']\n",
    "    if x in luxury_target:\n",
    "        return 'Luxury'\n",
    "    else:\n",
    "        return x\n",
    "\n",
    "df['vehicle_class'] = list(map(cleancarclass, df['vehicle_class']))\n",
    "df['vehicle_class'].value_counts()"
   ]
  },
  {
   "cell_type": "code",
   "execution_count": 8,
   "id": "afcae0a9",
   "metadata": {},
   "outputs": [],
   "source": [
    "# removing % in customer value \n",
    "df['customer_lifetime_value']=df['customer_lifetime_value'].str.replace('%', '')\n",
    "# convert to dollars and turn into numeric\n",
    "df['customer_lifetime_value']=pd.to_numeric(df['customer_lifetime_value'], errors='coerce')/100\n"
   ]
  },
  {
   "cell_type": "markdown",
   "id": "85ff78ce-0174-4890-9db3-8048b7d7d2d0",
   "metadata": {
    "id": "85ff78ce-0174-4890-9db3-8048b7d7d2d0"
   },
   "source": [
    "## Exercise 3: Formatting data types"
   ]
  },
  {
   "cell_type": "markdown",
   "id": "b91c2cf8-79a2-4baf-9f65-ff2fb22270bd",
   "metadata": {
    "id": "b91c2cf8-79a2-4baf-9f65-ff2fb22270bd"
   },
   "source": [
    "The data types of many columns in the dataset appear to be incorrect. This could impact the accuracy of our analysis. To ensure accurate analysis, we need to correct the data types of these columns. Please update the data types of the columns as appropriate."
   ]
  },
  {
   "cell_type": "markdown",
   "id": "43e5d853-ff9e-43b2-9d92-aef2f78764f3",
   "metadata": {
    "id": "43e5d853-ff9e-43b2-9d92-aef2f78764f3"
   },
   "source": [
    "It is important to note that this exercise does not involve handling null values (NaN or None)."
   ]
  },
  {
   "cell_type": "markdown",
   "id": "329ca691-9196-4419-8969-3596746237a1",
   "metadata": {
    "id": "329ca691-9196-4419-8969-3596746237a1"
   },
   "source": [
    "*Hint*:\n",
    "- *Customer lifetime value should be numeric*\n",
    "- *Number of open complaints has an incorrect format. Look at the different values it takes with `unique()` and take the middle value. As an example, 1/5/00 should be 5. Number of open complaints is a string - remember you can use `split()` to deal with it and take the number you need. Finally, since it should be numeric, cast the column to be in its proper type.*"
   ]
  },
  {
   "cell_type": "code",
   "execution_count": null,
   "id": "eb8f5991-73e9-405f-bf1c-6b7c589379a9",
   "metadata": {
    "id": "eb8f5991-73e9-405f-bf1c-6b7c589379a9"
   },
   "outputs": [],
   "source": [
    "#removing the slash using split('/')\n",
    "for item in df['number_of_open_complaints']: \n",
    "    no_slash_list.append(item.split('/')[1]) #(index1) keeps middle number \n",
    "# have created a new list\n",
    "df['number_of_open_complaints']=no_slash_list\n"
   ]
  },
  {
   "cell_type": "code",
   "execution_count": null,
   "id": "d9f694ce",
   "metadata": {},
   "outputs": [],
   "source": [
    "# turn new list to_numeric()\n",
    "df['number_of_open_complaints']=pd.to_numeric(df['number_of_open_complaints'],errors='coerce')"
   ]
  },
  {
   "cell_type": "markdown",
   "id": "14c52e28-2d0c-4dd2-8bd5-3476e34fadc1",
   "metadata": {
    "id": "14c52e28-2d0c-4dd2-8bd5-3476e34fadc1"
   },
   "source": [
    "## Exercise 4: Dealing with Null values"
   ]
  },
  {
   "cell_type": "markdown",
   "id": "34b9a20f-7d32-4417-975e-1b4dfb0e16cd",
   "metadata": {
    "id": "34b9a20f-7d32-4417-975e-1b4dfb0e16cd"
   },
   "source": [
    "Identify any columns with null or missing values. Identify how many null values each column has. You can use the `isnull()` function in pandas to find columns with null values.\n",
    "\n",
    "Decide on a strategy for handling the null values. There are several options, including:\n",
    "\n",
    "- Drop the rows or columns with null values\n",
    "- Fill the null values with a specific value (such as the column mean or median for numerical variables, and mode for categorical variables)\n",
    "- Fill the null values with the previous or next value in the column\n",
    "- Fill the null values based on a more complex algorithm or model (note: we haven't covered this yet)\n",
    "\n",
    "Implement your chosen strategy to handle the null values. You can use the `fillna()` function in pandas to fill null values or `dropna()` function to drop null values.\n",
    "\n",
    "Verify that your strategy has successfully handled the null values. You can use the `isnull()` function again to check if there are still null values in the dataset.\n",
    "\n",
    "Remember to document your process and explain your reasoning for choosing a particular strategy for handling null values.\n",
    "\n",
    "After formatting data types, as a last step, convert all the numeric variables to integers."
   ]
  },
  {
   "cell_type": "code",
   "execution_count": null,
   "id": "cc370f58",
   "metadata": {},
   "outputs": [],
   "source": [
    "#df.isnull()\n"
   ]
  },
  {
   "cell_type": "code",
   "execution_count": null,
   "id": "9e7e59e0",
   "metadata": {},
   "outputs": [],
   "source": [
    "# let's see the percentage of null values in a column\n",
    "#round(df.isna().sum()/len(df),4)*100  \n",
    "#nulls_df = pd.df(round(df.isna().sum()/len(df),4)*100)\n",
    "#nulls_df.columns = ['header_name', 'percent_nulls']\n",
    "#nulls_df"
   ]
  },
  {
   "cell_type": "code",
   "execution_count": null,
   "id": "c3fe7400",
   "metadata": {},
   "outputs": [],
   "source": [
    "df1=df.drop_duplicates() #we assume duplicates are those with NaN in all columns\n",
    " #previous command drops everything except the first duplicate\n",
    "df1=df1.drop(1071,axis=0,inplace=True)"
   ]
  },
  {
   "cell_type": "code",
   "execution_count": null,
   "id": "f184fc35-7831-4836-a0a5-e7f99e01b40e",
   "metadata": {
    "id": "f184fc35-7831-4836-a0a5-e7f99e01b40e"
   },
   "outputs": [],
   "source": [
    "#df[df['state'].isnull()==True]\n",
    "#dropna shows how many nulls there are also\n",
    "df1['state'].value_counts(dropna=False) \n",
    "\n",
    "#CATEGORICAL we fill with the Mode which is Oregon\n",
    "df1['state']=df1['state'].fillna('Oregon')\n",
    "\n",
    "\n",
    "#ORDINAL we fill with the mean\n",
    "mean_income=df1['income'].mean()\n",
    "mean_income\n",
    "df1['income']=df1['income'].fillna(mean_income)\n",
    "df1.isna().sum #check\n",
    "\n",
    "#lets remove the decimals with round"
   ]
  },
  {
   "cell_type": "markdown",
   "id": "98416351-e999-4156-9834-9b00a311adfa",
   "metadata": {
    "id": "98416351-e999-4156-9834-9b00a311adfa"
   },
   "source": [
    "## Exercise 5: Dealing with duplicates"
   ]
  },
  {
   "cell_type": "markdown",
   "id": "ea0816a7-a18e-4d4c-b667-a8452a800bd1",
   "metadata": {
    "id": "ea0816a7-a18e-4d4c-b667-a8452a800bd1"
   },
   "source": [
    "Use the `.duplicated()` method to identify any duplicate rows in the dataframe.\n",
    "\n",
    "Decide on a strategy for handling the duplicates. Options include:\n",
    "- Dropping all duplicate rows\n",
    "- Keeping only the first occurrence of each duplicated row\n",
    "- Keeping only the last occurrence of each duplicated row\n",
    "- Dropping duplicates based on a subset of columns\n",
    "- Dropping duplicates based on a specific column\n",
    "\n",
    "Implement your chosen strategy using the `drop_duplicates()` function.\n",
    "\n",
    "Verify that your strategy has successfully handled the duplicates by checking for duplicates again using `.duplicated()`.\n",
    "\n",
    "Remember to document your process and explain your reasoning for choosing a particular strategy for handling duplicates.\n",
    "\n",
    "Save the cleaned dataset to a new CSV file.\n",
    "\n",
    "*Hint*: *after dropping duplicates, reset the index to ensure consistency*."
   ]
  },
  {
   "cell_type": "code",
   "execution_count": null,
   "id": "1929362c-47ed-47cb-baca-358b78d401a0",
   "metadata": {
    "id": "1929362c-47ed-47cb-baca-358b78d401a0"
   },
   "outputs": [],
   "source": [
    "## adding index=False (you dont get unamed 0 column when openning it again)\n"
   ]
  },
  {
   "cell_type": "markdown",
   "id": "60840701-4783-40e2-b4d8-55303f9100c9",
   "metadata": {
    "id": "60840701-4783-40e2-b4d8-55303f9100c9"
   },
   "source": [
    "# Bonus: Challenge 2: creating functions on a separate `py` file"
   ]
  },
  {
   "cell_type": "markdown",
   "id": "9d1adb3a-17cf-4899-8041-da21a4337fb4",
   "metadata": {
    "id": "9d1adb3a-17cf-4899-8041-da21a4337fb4"
   },
   "source": [
    "Put all the data cleaning and formatting steps into functions, and create a main function that performs all the cleaning and formatting.\n",
    "\n",
    "Write these functions in separate .py file(s). By putting these steps into functions, we can make the code more modular and easier to maintain."
   ]
  },
  {
   "cell_type": "markdown",
   "id": "0e170dc2-b62c-417a-8248-e63ed18a70c4",
   "metadata": {
    "id": "0e170dc2-b62c-417a-8248-e63ed18a70c4"
   },
   "source": [
    "*Hint: autoreload module is a utility module in Python that allows you to automatically reload modules in the current session when changes are made to the source code. This can be useful in situations where you are actively developing code and want to see the effects of changes you make without having to constantly restart the Python interpreter or Jupyter Notebook kernel.*"
   ]
  },
  {
   "cell_type": "code",
   "execution_count": null,
   "id": "a52c6dfc-cd11-4d01-bda4-f719fa33e9a4",
   "metadata": {
    "id": "a52c6dfc-cd11-4d01-bda4-f719fa33e9a4"
   },
   "outputs": [],
   "source": [
    "def cleaning_df(df):\n",
    "        new_cols=[]\n",
    "        for i in range(len(df.columns)):\n",
    "            new_cols.append(df.columns[i].lower().replace(' ','_'))#underscoring\n",
    "        df.columns=new_cols\n",
    "        df=df.rename(columns={'st':'state'})\n",
    "        df=df.drop_duplicates()\n",
    "        #df=df.drop(1071,axis=0) #full nan row\n",
    "        df['gender']=df['gender'].fillna('F') #we choose Mode Female\n",
    "        df['gender']=np.where(df['gender'].isin(['F','female','Femal']),'F','M')\n",
    "        # removing % in customer value \n",
    "        df['customer_lifetime_value']=df['customer_lifetime_value'].str.replace('%', '')\n",
    "        # convert to dollars and turn into numeric\n",
    "        df['customer_lifetime_value']=pd.to_numeric(df['customer_lifetime_value'], errors='coerce')/100\n",
    "        #removing the slash ('/')\n",
    "        for item in df['number_of_open_complaints']:\n",
    "            no_slash_list.append(item.split('/')[1]) #(index1) keeps middle number \n",
    "        df['number_of_open_complaints']=no_slash_list\n",
    "        # turn all to_numeric()\n",
    "        df['number_of_open_complaints']=pd.to_numeric(df['number_of_open_complaints'],errors='coerce')\n",
    "        df['customer_lifetime_value']=pd.to_numeric(df['customer_lifetime_value'],errors='coerce')\n",
    "        return df\n",
    "    \n",
    "        # let's test it\n",
    "df_test_dirty=pd.read_csv('https://raw.githubusercontent.com/data-bootcamp-v4/data/main/file1.csv')\n",
    "df_test_clean=cleaning_df(df_test_dirty)"
   ]
  },
  {
   "cell_type": "markdown",
   "id": "80f846bb-3f5e-4ca2-96c0-900728daca5a",
   "metadata": {
    "id": "80f846bb-3f5e-4ca2-96c0-900728daca5a",
    "tags": []
   },
   "source": [
    "# Bonus: Challenge 3: Analyzing Clean and Formated Data"
   ]
  },
  {
   "cell_type": "markdown",
   "id": "9021630e-cc90-446c-b5bd-264d6c864207",
   "metadata": {
    "id": "9021630e-cc90-446c-b5bd-264d6c864207"
   },
   "source": [
    "You have been tasked with analyzing the data to identify potential areas for improving customer retention and profitability. Your goal is to identify customers with a high policy claim amount and a low customer lifetime value.\n",
    "\n",
    "In the Pandas Lab, we only looked at high policy claim amounts because we couldn't look into low customer lifetime values. If we had tried to work with that column, we wouldn't have been able to because customer lifetime value wasn't clean and in its proper format. So after cleaning and formatting the data, let's get some more interesting insights!\n",
    "\n",
    "Instructions:\n",
    "\n",
    "- Review the statistics again for total claim amount and customer lifetime value to gain an understanding of the data.\n",
    "- To identify potential areas for improving customer retention and profitability, we want to focus on customers with a high policy claim amount and a low customer lifetime value. Consider customers with a high policy claim amount to be those in the top 25% of the total claim amount, and clients with a low customer lifetime value to be those in the bottom 25% of the customer lifetime value. Create a pandas DataFrame object that contains information about customers with a policy claim amount greater than the 75th percentile and a customer lifetime value in the bottom 25th percentile.\n",
    "- Use DataFrame methods to calculate summary statistics about the high policy claim amount and low customer lifetime value data. To do so, select both columns of the dataframe simultaneously and pass it to the `.describe()` method. This will give you descriptive statistics, such as mean, median, standard deviation, minimum and maximum values for both columns at the same time, allowing you to compare and analyze their characteristics."
   ]
  },
  {
   "cell_type": "code",
   "execution_count": null,
   "id": "211e82b5-461a-4d6f-8a23-4deccb84173c",
   "metadata": {
    "id": "211e82b5-461a-4d6f-8a23-4deccb84173c"
   },
   "outputs": [],
   "source": [
    "# no bonus"
   ]
  },
  {
   "cell_type": "markdown",
   "id": "26be5b01",
   "metadata": {},
   "source": [
    "# AFTERNOON Lab | Customer Analysis Round 3\n",
    "\n",
    "EDA (Exploratory Data Analysis) - to explore the data:\n",
    "    Show DataFrame info.\n",
    "    Describe DataFrame.\n",
    "    Show a plot of the Gender breakdown.\n",
    "    Show a plot of Income by State.\n",
    "    Show a plot of the Policy Type by the Total Claim Amount.\n",
    "    Show a plot of the Education by Vehicle Class.\n",
    "    What insights can you establish from these plots?\n",
    "    What other plots do you feel would be beneficial?"
   ]
  },
  {
   "cell_type": "code",
   "execution_count": null,
   "id": "b202ace7",
   "metadata": {},
   "outputs": [],
   "source": [
    "#install\n",
    "import matplotlib.pyplot as plt\n",
    "import seaborn as sns \n",
    "%matplotlib inline"
   ]
  },
  {
   "cell_type": "code",
   "execution_count": null,
   "id": "e97b56dd",
   "metadata": {},
   "outputs": [],
   "source": [
    "df.info()\n",
    "#Show a plot of the Gender breakdown.\n",
    "sns.countplot('gender')\n",
    "#Show a plot of Income by State.\n",
    "sns.barplot(x=\"state\",y=\"income\",data=df)\n",
    "plt.show()"
   ]
  },
  {
   "cell_type": "code",
   "execution_count": null,
   "id": "b749f4f4",
   "metadata": {},
   "outputs": [],
   "source": [
    "#Show a plot of the Policy Type by the Total Claim Amount.\n",
    "sns.barplot(x=\"policy_type\", x=\"total_claim_amount\",data=df\n",
    "plt.show()\n",
    "#sns.barplot(x=\"education\", hue=\"vehicle_class\",data=customer_data)\n",
    "#plt.show()"
   ]
  },
  {
   "cell_type": "code",
   "execution_count": null,
   "id": "87e0aa38",
   "metadata": {},
   "outputs": [],
   "source": [
    "#Show a plot of the Education by Vehicle Class. both are categorical. \n",
    "#cannot use x and y but x and hue (count of each)\n",
    "\n"
   ]
  },
  {
   "cell_type": "code",
   "execution_count": null,
   "id": "8c342041",
   "metadata": {},
   "outputs": [],
   "source": [
    "#hue gives the other one as hue. barplot needs numeric so we do hist\n",
    "sns.histplot(x=\"education\", hue=\"vehicle_class\",data=df1,multiple='stack')\n",
    "#multiple = stack : separates the colours by stacking\n",
    "plt.show()\n",
    "#looks like people with least "
   ]
  },
  {
   "cell_type": "markdown",
   "id": "890bacd4",
   "metadata": {},
   "source": [
    "# Lab | Customer Analysis Round 4\n",
    "Check the data types of the columns. Get the numeric data into a dataframe called numerical and categorical columns in a dataframe called categorical. (You can use np.number and object to select the numerical data types and categorical data types respectively)\n",
    "-Now we will try to check the normality of the numerical variables visually\n",
    "-Use seaborn library to construct distribution plots for the numerical variables\n",
    "-Use Matplotlib to construct histograms\n",
    "-Do the distributions for different numerical variables look like a normal distribution?\n",
    "-For the numerical variables, check the multicollinearity between the features. Please note that we will use the column total_claim_amount later as the target variable.\n",
    "-Drop one of the two features that show a high correlation between them (greater than 0.9). \n",
    "-Write code for both the correlation matrix and for seaborn heatmap. If there is no pair of features that have a high correlation, then do not drop any features"
   ]
  },
  {
   "cell_type": "code",
   "execution_count": null,
   "id": "75dea49d",
   "metadata": {},
   "outputs": [],
   "source": [
    "##pd.to_numeric(df['number_of_open_complaints'], errors='coerce')\n",
    "\n",
    "#some skewed to the right\n",
    "\n",
    "#total claim amount is our target. we dont want to drop it \n",
    "#if anything is multicollinear we would drop it; but there isnt\n",
    "#negative influence of the income"
   ]
  },
  {
   "cell_type": "markdown",
   "id": "876d310b",
   "metadata": {},
   "source": [
    "# Lab | Customer Analysis Round 5\n",
    "1. X-y split.\n",
    "2. Scaling (numerical)"
   ]
  },
  {
   "cell_type": "code",
   "execution_count": null,
   "id": "614a5443",
   "metadata": {},
   "outputs": [],
   "source": [
    "#splitting Y (our target) and X (ALL our features)\n",
    "y = df['total_claim_amount']\n",
    "X=df.drop(['total_claim_amount'], axis=1) \n",
    "#all the rest. iloc could also be used\n",
    "\n",
    "#'customers' is useless so drop it too\n",
    "\n",
    "X_num=X.select_dtypes(include = np.number)\n",
    "X_cat=X.select_dtype(include=object) #that would be :\n",
    "#'customer', 'state', 'gender', 'education','policy_type', 'vehicle_class'\n",
    "\n",
    "##SCALING##\n",
    "# Normalize using minmaxscaler\n",
    "transformer = MinMaxScaler().fit(X_num)\n",
    "x_normalized = transformer.transform(X_num)\n",
    "print(x_normalized.shape)\n",
    "x_normalized\n",
    "datanorm = pd.DataFrame(x_normalized, columns=X_num.columns) \n",
    "\n",
    "# Plot the distributions again.\n",
    "for i in range(3):\n",
    "    sns.distplot(datanorm.iloc[:,i])\n",
    "    plt.show()"
   ]
  },
  {
   "cell_type": "code",
   "execution_count": null,
   "id": "011d6d24",
   "metadata": {},
   "outputs": [],
   "source": []
  },
  {
   "cell_type": "code",
   "execution_count": null,
   "id": "891b7af9",
   "metadata": {},
   "outputs": [],
   "source": []
  },
  {
   "cell_type": "code",
   "execution_count": null,
   "id": "a6efa7f5",
   "metadata": {},
   "outputs": [],
   "source": []
  },
  {
   "cell_type": "code",
   "execution_count": null,
   "id": "d483cb87",
   "metadata": {},
   "outputs": [],
   "source": []
  }
 ],
 "metadata": {
  "colab": {
   "provenance": []
  },
  "kernelspec": {
   "display_name": "Python 3 (ipykernel)",
   "language": "python",
   "name": "python3"
  },
  "language_info": {
   "codemirror_mode": {
    "name": "ipython",
    "version": 3
   },
   "file_extension": ".py",
   "mimetype": "text/x-python",
   "name": "python",
   "nbconvert_exporter": "python",
   "pygments_lexer": "ipython3",
   "version": "3.11.5"
  }
 },
 "nbformat": 4,
 "nbformat_minor": 5
}
